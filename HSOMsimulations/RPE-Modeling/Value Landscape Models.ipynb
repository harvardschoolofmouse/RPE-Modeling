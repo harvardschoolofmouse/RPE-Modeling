{
 "cells": [
  {
   "cell_type": "markdown",
   "metadata": {},
   "source": [
    "# Value function modeling -- Behavioral Timing\n",
    "\n",
    "Here, we apply the value learning under state uncertainty model applied by Mikhael et al., 2019."
   ]
  },
  {
   "cell_type": "code",
   "execution_count": 46,
   "metadata": {},
   "outputs": [],
   "source": [
    "import numpy as np\n",
    "import matplotlib.pyplot as plt"
   ]
  },
  {
   "cell_type": "markdown",
   "metadata": {},
   "source": [
    "We begin by setting parameters for the self-timed movement task described by Hamilos et al., 2021\n",
    "\n",
    "We will assume:\n",
    "\n",
    "<li>the animal intends to initiate the self-timed lick at the optimal time, 3.3 s\n",
    "<li>there is a minimal lamp-off interval (LOI) of 0.4 s (in the paradigm, is randomly sampled between 0.4-1.5 s)\n",
    "<li>the total simulated time will be the LOI + timing interval (0.4 s + 3.3 s)\n",
    "<li>for efficiency, we will assume the subjective estimate of veridical time maintains the same timing state over 100 ms of veridical time"
   ]
  },
  {
   "cell_type": "code",
   "execution_count": 59,
   "metadata": {},
   "outputs": [],
   "source": [
    "modeled_time_ms = 3600     # we'll look 300ms past lick\n",
    "lick_time_ms = 3300        # 3.3 s reward bound\n",
    "LOI_time_ms = 400          # lamp-off interval\n",
    "total_time_ms = LOI_time_ms + modeled_time_ms\n",
    "state_width_ms = 100       # each subjective timing state = 100 ms of veridical time"
   ]
  },
  {
   "cell_type": "markdown",
   "metadata": {},
   "source": [
    "Next, we will specify the parameters of our state space model:\n",
    "\n",
    "    gamma: the temporal discounting factor, 0.9 in Mikhael et al.\n",
    "    alpha: the learning rate, 0.1 in Mikhael et al.\n",
    "    n_tau: the number of subjective timing states (n in Mikhael et al.)\n",
    "    numIter: the number of iterations of value function learning\n",
    "    cue:   the trial onset (CS in Mikhael et al.)\n",
    "    lick:  the time of the lick (T in Mikhael et al., ie when reward comes)\n",
    "    weber: the fraction by which the variance in the timing distribution increments\n",
    "        "
   ]
  },
  {
   "cell_type": "code",
   "execution_count": 60,
   "metadata": {},
   "outputs": [],
   "source": [
    "gamma = .9                             # discount factor\n",
    "alpha = .1                             # learning rate\n",
    "n_tau = int(modeled_time_ms/state_width_ms) + int(LOI_time_ms/state_width_ms) # number of subjective states\n",
    "numIter = 1000                         # number of iterations for learning\n",
    "cue = int(LOI_time_ms/state_width_ms)       # cue state\n",
    "lick = lick_time_ms/state_width_ms#n-2 # first-lick state --  this doesn't seem to make sense\n",
    "weber = .15                            # Weber fraction"
   ]
  },
  {
   "cell_type": "markdown",
   "metadata": {},
   "source": [
    "Here, we will prepare the vectors needed for the simulation\n",
    "\n",
    "    tau: was t in Mikhael et al.\n",
    "    r    when reward is expected to occur (ie at the first-lick)"
   ]
  },
  {
   "cell_type": "code",
   "execution_count": 54,
   "metadata": {},
   "outputs": [],
   "source": [
    "# true value landscape\n",
    "tau = np.arange(n_tau).reshape(n_tau, 1)+1     # time (ie subjective timing state), originally t by JM\n",
    "r = np.zeros((n_tau, 1))#zeros(n,1) \n",
    "r[[lick-1]] = 1            # reward schedule\n",
    "oT = range(cue)+1\n",
    "a[0] = [11,12,13,14,15,16]\n",
    "a[1] = [21,22,23,24,25,26]\n",
    "a[2] = [31,32,33,34,35,36]\n",
    "a[3] = [41,42,43,44,45,46]\n",
    "\n",
    "a = np.array(a)\n",
    "\n",
    "oT = np.array()[1:CS-1 T+1:n]                    # times outside the trial -- also don't think we need this\n",
    "oT = np.hstack((np.arange(cue-1).reshape(n_tau, 1),b))\n",
    "V = gamma**(lick-tau)#'#; V(oT) = 0;         # true value"
   ]
  },
  {
   "cell_type": "code",
   "execution_count": 58,
   "metadata": {},
   "outputs": [
    {
     "ename": "TypeError",
     "evalue": "unsupported operand type(s) for +: 'range' and 'int'",
     "output_type": "error",
     "traceback": [
      "\u001b[0;31m---------------------------------------------------------------------------\u001b[0m",
      "\u001b[0;31mTypeError\u001b[0m                                 Traceback (most recent call last)",
      "\u001b[0;32m<ipython-input-58-37f78fa7ecc4>\u001b[0m in \u001b[0;36m<module>\u001b[0;34m\u001b[0m\n\u001b[0;32m----> 1\u001b[0;31m \u001b[0mrange\u001b[0m\u001b[0;34m(\u001b[0m\u001b[0;36m4\u001b[0m\u001b[0;34m)\u001b[0m\u001b[0;34m+\u001b[0m\u001b[0;36m1\u001b[0m\u001b[0;34m\u001b[0m\u001b[0;34m\u001b[0m\u001b[0m\n\u001b[0m",
      "\u001b[0;31mTypeError\u001b[0m: unsupported operand type(s) for +: 'range' and 'int'"
     ]
    }
   ],
   "source": [
    "np.array([range(1,cue+1), range(21,27), range(31, 37), range(41,47)])"
   ]
  },
  {
   "cell_type": "code",
   "execution_count": 30,
   "metadata": {},
   "outputs": [
    {
     "ename": "SyntaxError",
     "evalue": "invalid syntax (<ipython-input-30-15c929656798>, line 10)",
     "output_type": "error",
     "traceback": [
      "\u001b[0;36m  File \u001b[0;32m\"<ipython-input-30-15c929656798>\"\u001b[0;36m, line \u001b[0;32m10\u001b[0m\n\u001b[0;31m    L = 3+zeros(1,n); L(n-4:end) = .1;      # SD of large uncertainty kernel\u001b[0m\n\u001b[0m                           ^\u001b[0m\n\u001b[0;31mSyntaxError\u001b[0m\u001b[0;31m:\u001b[0m invalid syntax\n"
     ]
    }
   ],
   "source": [
    "#kernel widths\n",
    "S = .1+zeros(1,n);                      # SD of small uncertainty kernel\n",
    "L = 3+zeros(1,n); L(n-4:end) = .1;      # SD of large uncertainty kernel\n",
    "web = weber*t;"
   ]
  },
  {
   "cell_type": "code",
   "execution_count": 55,
   "metadata": {},
   "outputs": [
    {
     "data": {
      "image/png": "[encoded data removed]",
      "text/plain": [
       "<Figure size 432x288 with 1 Axes>"
      ]
     },
     "metadata": {
      "needs_background": "light"
     },
     "output_type": "display_data"
    }
   ],
   "source": [
    "# V\n",
    "plt.plot(V)\n",
    "plt.ylabel('some numbers')\n",
    "plt.show()"
   ]
  },
  {
   "cell_type": "code",
   "execution_count": 56,
   "metadata": {},
   "outputs": [
    {
     "data": {
      "text/plain": [
       "array([[0.02781284],\n",
       "       [0.03090315],\n",
       "       [0.03433684],\n",
       "       [0.03815204],\n",
       "       [0.04239116],\n",
       "       [0.04710129],\n",
       "       [0.05233476],\n",
       "       [0.05814974],\n",
       "       [0.06461082],\n",
       "       [0.0717898 ],\n",
       "       [0.07976644],\n",
       "       [0.08862938],\n",
       "       [0.09847709],\n",
       "       [0.10941899],\n",
       "       [0.12157665],\n",
       "       [0.13508517],\n",
       "       [0.15009464],\n",
       "       [0.16677182],\n",
       "       [0.18530202],\n",
       "       [0.20589113],\n",
       "       [0.22876792],\n",
       "       [0.25418658],\n",
       "       [0.28242954],\n",
       "       [0.3138106 ],\n",
       "       [0.34867844],\n",
       "       [0.38742049],\n",
       "       [0.43046721],\n",
       "       [0.4782969 ],\n",
       "       [0.531441  ],\n",
       "       [0.59049   ],\n",
       "       [0.6561    ],\n",
       "       [0.729     ],\n",
       "       [0.81      ],\n",
       "       [0.9       ],\n",
       "       [1.        ],\n",
       "       [1.11111111],\n",
       "       [1.2345679 ]])"
      ]
     },
     "execution_count": 56,
     "metadata": {},
     "output_type": "execute_result"
    }
   ],
   "source": [
    "V"
   ]
  },
  {
   "cell_type": "code",
   "execution_count": null,
   "metadata": {},
   "outputs": [],
   "source": []
  }
 ],
 "metadata": {
  "kernelspec": {
   "display_name": "Python 3",
   "language": "python",
   "name": "python3"
  },
  "language_info": {
   "codemirror_mode": {
    "name": "ipython",
    "version": 3
   },
   "file_extension": ".py",
   "mimetype": "text/x-python",
   "name": "python",
   "nbconvert_exporter": "python",
   "pygments_lexer": "ipython3",
   "version": "3.7.3"
  }
 },
 "nbformat": 4,
 "nbformat_minor": 2
}
